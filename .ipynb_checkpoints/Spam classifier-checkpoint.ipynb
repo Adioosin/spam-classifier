{
 "cells": [
  {
   "cell_type": "code",
   "execution_count": 24,
   "metadata": {
    "collapsed": true,
    "scrolled": true
   },
   "outputs": [],
   "source": [
    "import numpy as np\n",
    "import pandas as pd\n",
    "import matplotlib.pyplot as plt\n",
    "from collections import Counter\n",
    "from sklearn import feature_extraction, model_selection, naive_bayes, metrics, svm\n",
    "from IPython.display import Image\n",
    "from nltk.tokenize import word_tokenize\n",
    "from nltk.corpus import stopwords\n",
    "import string\n",
    "import re\n",
    "import pprint\n",
    "from stemming.porter2 import stem\n",
    "import warnings\n",
    "warnings.filterwarnings(\"ignore\")\n",
    "%matplotlib inline  "
   ]
  },
  {
   "cell_type": "code",
   "execution_count": 25,
   "metadata": {},
   "outputs": [
    {
     "data": {
      "text/html": [
       "<div>\n",
       "<style>\n",
       "    .dataframe thead tr:only-child th {\n",
       "        text-align: right;\n",
       "    }\n",
       "\n",
       "    .dataframe thead th {\n",
       "        text-align: left;\n",
       "    }\n",
       "\n",
       "    .dataframe tbody tr th {\n",
       "        vertical-align: top;\n",
       "    }\n",
       "</style>\n",
       "<table border=\"1\" class=\"dataframe\">\n",
       "  <thead>\n",
       "    <tr style=\"text-align: right;\">\n",
       "      <th></th>\n",
       "      <th>v1</th>\n",
       "      <th>v2</th>\n",
       "      <th>Unnamed: 2</th>\n",
       "      <th>Unnamed: 3</th>\n",
       "      <th>Unnamed: 4</th>\n",
       "    </tr>\n",
       "  </thead>\n",
       "  <tbody>\n",
       "    <tr>\n",
       "      <th>0</th>\n",
       "      <td>ham</td>\n",
       "      <td>Go until jurong point, crazy.. Available only ...</td>\n",
       "      <td>NaN</td>\n",
       "      <td>NaN</td>\n",
       "      <td>NaN</td>\n",
       "    </tr>\n",
       "    <tr>\n",
       "      <th>1</th>\n",
       "      <td>ham</td>\n",
       "      <td>Ok lar... Joking wif u oni...</td>\n",
       "      <td>NaN</td>\n",
       "      <td>NaN</td>\n",
       "      <td>NaN</td>\n",
       "    </tr>\n",
       "    <tr>\n",
       "      <th>2</th>\n",
       "      <td>spam</td>\n",
       "      <td>Free entry in 2 a wkly comp to win FA Cup fina...</td>\n",
       "      <td>NaN</td>\n",
       "      <td>NaN</td>\n",
       "      <td>NaN</td>\n",
       "    </tr>\n",
       "    <tr>\n",
       "      <th>3</th>\n",
       "      <td>ham</td>\n",
       "      <td>U dun say so early hor... U c already then say...</td>\n",
       "      <td>NaN</td>\n",
       "      <td>NaN</td>\n",
       "      <td>NaN</td>\n",
       "    </tr>\n",
       "    <tr>\n",
       "      <th>4</th>\n",
       "      <td>ham</td>\n",
       "      <td>Nah I don't think he goes to usf, he lives aro...</td>\n",
       "      <td>NaN</td>\n",
       "      <td>NaN</td>\n",
       "      <td>NaN</td>\n",
       "    </tr>\n",
       "  </tbody>\n",
       "</table>\n",
       "</div>"
      ],
      "text/plain": [
       "     v1                                                 v2 Unnamed: 2  \\\n",
       "0   ham  Go until jurong point, crazy.. Available only ...        NaN   \n",
       "1   ham                      Ok lar... Joking wif u oni...        NaN   \n",
       "2  spam  Free entry in 2 a wkly comp to win FA Cup fina...        NaN   \n",
       "3   ham  U dun say so early hor... U c already then say...        NaN   \n",
       "4   ham  Nah I don't think he goes to usf, he lives aro...        NaN   \n",
       "\n",
       "  Unnamed: 3 Unnamed: 4  \n",
       "0        NaN        NaN  \n",
       "1        NaN        NaN  \n",
       "2        NaN        NaN  \n",
       "3        NaN        NaN  \n",
       "4        NaN        NaN  "
      ]
     },
     "execution_count": 25,
     "metadata": {},
     "output_type": "execute_result"
    }
   ],
   "source": [
    "# Reading data\n",
    "data = pd.read_csv('spam.csv', encoding='latin-1')\n",
    "data.head(n=5)"
   ]
  },
  {
   "cell_type": "code",
   "execution_count": 26,
   "metadata": {},
   "outputs": [
    {
     "data": {
      "image/png": "[encoded data removed]",
      "text/plain": [
       "<matplotlib.figure.Figure at 0x1d9118ee5f8>"
      ]
     },
     "metadata": {},
     "output_type": "display_data"
    }
   ],
   "source": [
    "#Visualizing Data\n",
    "count_Class=pd.value_counts(data[\"v1\"], sort= True)\n",
    "count_Class.plot(kind= 'bar', color= [\"red\", \"blue\"])\n",
    "plt.title('Spam and ham data distribution')\n",
    "plt.show()"
   ]
  },
  {
   "cell_type": "code",
   "execution_count": 27,
   "metadata": {},
   "outputs": [
    {
     "name": "stdout",
     "output_type": "stream",
     "text": [
      "ham     4825\n",
      "spam     747\n",
      "Name: v1, dtype: int64\n"
     ]
    }
   ],
   "source": [
    "print(count_Class)"
   ]
  },
  {
   "cell_type": "code",
   "execution_count": 28,
   "metadata": {
    "collapsed": true
   },
   "outputs": [],
   "source": [
    "#Pre processing data - using regular expression toclassify all the email, web address, number to their respective class\n",
    "#removing stop word using NLTK\n",
    "#then stemming the words.\n",
    "#updating the sms with the processed data\n",
    "for i in range(0,len(data)):\n",
    "    data['v2'][i] = data['v2'][i].lower()\n",
    "    data['v2'][i] = re.sub('[^\\s]+@[^\\s]+','email',data['v2'][i])\n",
    "    data['v2'][i] = re.sub('[0-9]+', 'number',data['v2'][i])\n",
    "    data['v2'][i] = re.sub('(http|https)://[^\\s]*', 'httpaddr',data['v2'][i])\n",
    "    data['v2'][i] = re.sub('www.[^\\s]*', 'httpaddr',data['v2'][i])\n",
    "    data['v2'][i] = re.sub('www.[^\\s]*', 'httpaddr',data['v2'][i])\n",
    "    temp = data['v2'][i].split()\n",
    "    stop_words = set(stopwords.words(\"english\"))\n",
    "    cleaned_text = filter(lambda x: x not in stop_words, temp)\n",
    "    stem_text = [stem(word) for word in cleaned_text]\n",
    "    for k,j in enumerate(stem_text):\n",
    "        if len(j)<=1:\n",
    "            del stem_text[k]\n",
    "    data['v2'][i] = ' '.join(stem_text)"
   ]
  },
  {
   "cell_type": "code",
   "execution_count": 29,
   "metadata": {},
   "outputs": [
    {
     "name": "stdout",
     "output_type": "stream",
     "text": [
      "[('number', 1235), ('call', 355), ('å£number', 200), ('free', 180), ('ur', 144), ('txt', 136), ('number.', 131), ('text', 128), ('mobil', 119), ('repli', 109), ('claim', 108), ('httpaddr', 101), ('stop', 89), ('get', 86), ('now!', 70), ('new', 69), ('send', 67), ('nokia', 67), ('week', 65), ('tone', 64)]\n"
     ]
    }
   ],
   "source": [
    "#Making dictionary of the count of occurence of a word in the Spam messages \n",
    "spam_text = \" \".join(data[data['v1']=='spam'][\"v2\"]).split()\n",
    "count1 = Counter(list(spam_text))\n",
    "print(count1.most_common(20))"
   ]
  },
  {
   "cell_type": "code",
   "execution_count": 32,
   "metadata": {},
   "outputs": [
    {
     "name": "stdout",
     "output_type": "stream",
     "text": [
      "[('number', 684), ('go', 392), (\"i'm\", 369), ('get', 347), ('&lt;#&gt;', 276), ('come', 271), ('call', 269), ('ur', 235), ('like', 234), ('got', 227), ('know', 220), ('want', 202), ('love', 194), ('good', 187), ('time', 175), (\"i'll\", 167), ('need', 166), ('...', 162), ('ok', 156), ('think', 146)]\n"
     ]
    }
   ],
   "source": [
    "#Making dictionary of the count of occurence of a word in the Ham messages \n",
    "ham_text = \" \".join(data[data['v1']=='ham'][\"v2\"]).split()\n",
    "count2 = Counter(list(ham_text))\n",
    "print(count2.most_common(20))"
   ]
  },
  {
   "cell_type": "code",
   "execution_count": 8,
   "metadata": {},
   "outputs": [
    {
     "name": "stdout",
     "output_type": "stream",
     "text": [
      "<5572x7176 sparse matrix of type '<class 'numpy.int64'>'\n",
      "\twith 42060 stored elements in Compressed Sparse Row format>\n"
     ]
    }
   ],
   "source": [
    "#extracting features according to the count of the words and fitting it according the the Preprocessed data from above\n",
    "#then tranforming the text of all the messages in column v2 in the feature matrix\n",
    "#print(preprocessed_text)\n",
    "f = feature_extraction.text.CountVectorizer(stop_words='english')\n",
    "X = f.fit_transform(data['v2'])\n",
    "pprint.pprint(X)"
   ]
  },
  {
   "cell_type": "code",
   "execution_count": 9,
   "metadata": {
    "scrolled": false
   },
   "outputs": [
    {
     "name": "stdout",
     "output_type": "stream",
     "text": [
      "<3733x7176 sparse matrix of type '<class 'numpy.int64'>'\n",
      "\twith 28040 stored elements in Compressed Sparse Row format>\n",
      "<1839x7176 sparse matrix of type '<class 'numpy.int64'>'\n",
      "\twith 14020 stored elements in Compressed Sparse Row format>\n",
      "(3733, 7176) (1839, 7176)\n"
     ]
    }
   ],
   "source": [
    "#dividing the dataset into test and train data\n",
    "data[\"v1\"]=data[\"v1\"].map({'spam':1,'ham':0})\n",
    "X_train, X_test, y_train, y_test = model_selection.train_test_split(X, data['v1'], test_size=0.33, random_state=42)\n",
    "pprint.pprint(X_train)\n",
    "pprint.pprint(X_test)\n",
    "print(np.shape(X_train),np.shape(X_test))\n",
    "#so our dataset is divided into test and train data in 1/3 ratio"
   ]
  },
  {
   "cell_type": "code",
   "execution_count": 19,
   "metadata": {},
   "outputs": [],
   "source": [
    "#now we will select the best suited model using SVM\n",
    "arr_C = np.arange(500, 2000, 100) #100000\n",
    "score_train = np.zeros(len(arr_C))\n",
    "score_test = np.zeros(len(arr_C))\n",
    "score_recall = np.zeros(len(arr_C))\n",
    "score_precision= np.zeros(len(arr_C))\n",
    "for i,C in enumerate(arr_C):\n",
    "    svc = svm.SVC(C=C)\n",
    "    svc.fit(X_train, y_train)\n",
    "    score_train[i] = svc.score(X_train, y_train)\n",
    "    score_test[i]= svc.score(X_test, y_test)\n",
    "    score_recall[i] = metrics.recall_score(y_test, svc.predict(X_test))\n",
    "    score_precision[i] = metrics.precision_score(y_test, svc.predict(X_test))\n",
    "    m_confusion_test = metrics.confusion_matrix(y_test, svc.predict(X_test))"
   ]
  },
  {
   "cell_type": "code",
   "execution_count": 20,
   "metadata": {},
   "outputs": [
    {
     "data": {
      "text/html": [
       "<div>\n",
       "<style>\n",
       "    .dataframe thead tr:only-child th {\n",
       "        text-align: right;\n",
       "    }\n",
       "\n",
       "    .dataframe thead th {\n",
       "        text-align: left;\n",
       "    }\n",
       "\n",
       "    .dataframe tbody tr th {\n",
       "        vertical-align: top;\n",
       "    }\n",
       "</style>\n",
       "<table border=\"1\" class=\"dataframe\">\n",
       "  <thead>\n",
       "    <tr style=\"text-align: right;\">\n",
       "      <th></th>\n",
       "      <th>C</th>\n",
       "      <th>Train Accuracy</th>\n",
       "      <th>Test Accuracy</th>\n",
       "      <th>Test Recall</th>\n",
       "      <th>Test Precision</th>\n",
       "    </tr>\n",
       "  </thead>\n",
       "  <tbody>\n",
       "    <tr>\n",
       "      <th>0</th>\n",
       "      <td>500.0</td>\n",
       "      <td>0.996518</td>\n",
       "      <td>0.984774</td>\n",
       "      <td>0.896825</td>\n",
       "      <td>0.991228</td>\n",
       "    </tr>\n",
       "    <tr>\n",
       "      <th>1</th>\n",
       "      <td>600.0</td>\n",
       "      <td>0.997321</td>\n",
       "      <td>0.985318</td>\n",
       "      <td>0.900794</td>\n",
       "      <td>0.991266</td>\n",
       "    </tr>\n",
       "    <tr>\n",
       "      <th>2</th>\n",
       "      <td>700.0</td>\n",
       "      <td>0.998125</td>\n",
       "      <td>0.985318</td>\n",
       "      <td>0.900794</td>\n",
       "      <td>0.991266</td>\n",
       "    </tr>\n",
       "    <tr>\n",
       "      <th>3</th>\n",
       "      <td>800.0</td>\n",
       "      <td>0.998928</td>\n",
       "      <td>0.984774</td>\n",
       "      <td>0.900794</td>\n",
       "      <td>0.986957</td>\n",
       "    </tr>\n",
       "    <tr>\n",
       "      <th>4</th>\n",
       "      <td>900.0</td>\n",
       "      <td>0.999196</td>\n",
       "      <td>0.984774</td>\n",
       "      <td>0.900794</td>\n",
       "      <td>0.986957</td>\n",
       "    </tr>\n",
       "  </tbody>\n",
       "</table>\n",
       "</div>"
      ],
      "text/plain": [
       "       C  Train Accuracy  Test Accuracy  Test Recall  Test Precision\n",
       "0  500.0        0.996518       0.984774     0.896825        0.991228\n",
       "1  600.0        0.997321       0.985318     0.900794        0.991266\n",
       "2  700.0        0.998125       0.985318     0.900794        0.991266\n",
       "3  800.0        0.998928       0.984774     0.900794        0.986957\n",
       "4  900.0        0.999196       0.984774     0.900794        0.986957"
      ]
     },
     "execution_count": 20,
     "metadata": {},
     "output_type": "execute_result"
    }
   ],
   "source": [
    "matrix = np.matrix(np.c_[arr_C, score_train, score_test, score_recall, score_precision])\n",
    "models = pd.DataFrame(data = matrix, columns = ['C', 'Train Accuracy', 'Test Accuracy', 'Test Recall', 'Test Precision'])\n",
    "models.head(5)"
   ]
  },
  {
   "cell_type": "code",
   "execution_count": 21,
   "metadata": {},
   "outputs": [
    {
     "data": {
      "text/plain": [
       "C                 600.000000\n",
       "Train Accuracy      0.997321\n",
       "Test Accuracy       0.985318\n",
       "Test Recall         0.900794\n",
       "Test Precision      0.991266\n",
       "Name: 1, dtype: float64"
      ]
     },
     "execution_count": 21,
     "metadata": {},
     "output_type": "execute_result"
    }
   ],
   "source": [
    "best_index = models['Test Precision'].idxmax()\n",
    "models.iloc[best_index, :]"
   ]
  },
  {
   "cell_type": "code",
   "execution_count": 33,
   "metadata": {},
   "outputs": [
    {
     "data": {
      "text/html": [
       "<div>\n",
       "<style>\n",
       "    .dataframe thead tr:only-child th {\n",
       "        text-align: right;\n",
       "    }\n",
       "\n",
       "    .dataframe thead th {\n",
       "        text-align: left;\n",
       "    }\n",
       "\n",
       "    .dataframe tbody tr th {\n",
       "        vertical-align: top;\n",
       "    }\n",
       "</style>\n",
       "<table border=\"1\" class=\"dataframe\">\n",
       "  <thead>\n",
       "    <tr style=\"text-align: right;\">\n",
       "      <th></th>\n",
       "      <th>Predicted 0</th>\n",
       "      <th>Predicted 1</th>\n",
       "    </tr>\n",
       "  </thead>\n",
       "  <tbody>\n",
       "    <tr>\n",
       "      <th>Actual 0</th>\n",
       "      <td>1584</td>\n",
       "      <td>3</td>\n",
       "    </tr>\n",
       "    <tr>\n",
       "      <th>Actual 1</th>\n",
       "      <td>24</td>\n",
       "      <td>228</td>\n",
       "    </tr>\n",
       "  </tbody>\n",
       "</table>\n",
       "</div>"
      ],
      "text/plain": [
       "          Predicted 0  Predicted 1\n",
       "Actual 0         1584            3\n",
       "Actual 1           24          228"
      ]
     },
     "execution_count": 33,
     "metadata": {},
     "output_type": "execute_result"
    }
   ],
   "source": [
    "m_confusion_test = metrics.confusion_matrix(y_test, svc.predict(X_test))\n",
    "pd.DataFrame(data = m_confusion_test, columns = ['Predicted 0', 'Predicted 1'],\n",
    "            index = ['Actual 0', 'Actual 1'])"
   ]
  },
  {
   "cell_type": "code",
   "execution_count": null,
   "metadata": {
    "collapsed": true
   },
   "outputs": [],
   "source": []
  }
 ],
 "metadata": {
  "kernelspec": {
   "display_name": "Python 3",
   "language": "python",
   "name": "python3"
  },
  "language_info": {
   "codemirror_mode": {
    "name": "ipython",
    "version": 3
   },
   "file_extension": ".py",
   "mimetype": "text/x-python",
   "name": "python",
   "nbconvert_exporter": "python",
   "pygments_lexer": "ipython3",
   "version": "3.6.3"
  },
  "widgets": {
   "application/vnd.jupyter.widget-state+json": {
    "state": {},
    "version_major": 2,
    "version_minor": 0
   }
  }
 },
 "nbformat": 4,
 "nbformat_minor": 2
}
